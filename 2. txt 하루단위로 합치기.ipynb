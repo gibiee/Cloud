{
 "cells": [
  {
   "cell_type": "code",
   "execution_count": null,
   "metadata": {},
   "outputs": [],
   "source": [
    "# 어제 것 24개를 모두 합치기\n",
    "import datetime\n",
    "today = datetime.date.today()\n",
    "yesterday = today - datetime.timedelta(1)\n",
    "target = \"{}-{}\".format(yesterday.month, yesterday.day)\n",
    "\n",
    "after_list = list()\n",
    "before_result = list()\n",
    "result = list()\n",
    "\n",
    "for i in range(24) :\n",
    "    print(i, end=' ')\n",
    "    f = open(\"./per_hour_before/before-\" + target + \"-\" + str(i) + \".txt\", mode = \"r\", encoding=\"utf-8\")\n",
    "    text = f.read()\n",
    "    exec(\"text = \" + text)\n",
    "    f.close()\n",
    "    \n",
    "    for tweet in text :\n",
    "        before_result.append(tweet[0])\n",
    "    \n",
    "    f = open(\"./per_hour_after/\" + target + \"-\" + str(i) + \".txt\", mode = \"r\", encoding=\"utf-8\")\n",
    "    text = f.read()\n",
    "    exec(\"text = \" + text)\n",
    "    f.close()\n",
    "    \n",
    "    after_list += text\n",
    "    \n",
    "    for tweet in text :\n",
    "        for word in tweet[0] :\n",
    "            if len(word) <= 1 : continue\n",
    "            result.append(word)\n",
    "\n",
    "f = open(\"./per_day_before/(before)\" + target + \".txt\", mode = 'w', encoding = \"utf-8\")\n",
    "f.write(str(before_result))\n",
    "f.close()\n",
    "\n",
    "f = open(\"./per_day_keyword/(keyword)\" + target + \".txt\", mode = 'w', encoding = \"utf-8\")\n",
    "f.write(str(result))\n",
    "f.close()\n",
    "\n",
    "f = open(\"./per_day_after/(after)\" + target + \".txt\", mode = 'w', encoding = \"utf-8\")\n",
    "f.write(str(after_list))\n",
    "f.close()"
   ]
  }
 ],
 "metadata": {
  "kernelspec": {
   "display_name": "Python 3",
   "language": "python",
   "name": "python3"
  },
  "language_info": {
   "codemirror_mode": {
    "name": "ipython",
    "version": 3
   },
   "file_extension": ".py",
   "mimetype": "text/x-python",
   "name": "python",
   "nbconvert_exporter": "python",
   "pygments_lexer": "ipython3",
   "version": "3.6.7"
  }
 },
 "nbformat": 4,
 "nbformat_minor": 2
}
