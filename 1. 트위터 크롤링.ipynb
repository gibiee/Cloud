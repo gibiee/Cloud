{
 "cells": [
  {
   "cell_type": "code",
   "execution_count": null,
   "metadata": {},
   "outputs": [],
   "source": [
    "import tweepy\n",
    "from konlpy.tag import Okt\n",
    "import re\n",
    "okt = Okt()\n",
    "\n",
    "consumer_key = \"\"\n",
    "consumer_secret = \"\"\n",
    "auth = tweepy.OAuthHandler(consumer_key, consumer_secret)\n",
    "\n",
    "access_token = \"\"\n",
    "access_token_secret = \"\"\n",
    "auth.set_access_token(access_token, access_token_secret)\n",
    "\n",
    "api = tweepy.API(auth)\n",
    "\n",
    "# 크롤링\n",
    "location = \"%s,%s,%s\" % (\"35.95\", \"128.25\", \"300km\")\n",
    "keyword = \"\"\n",
    "result = []\n",
    "\n",
    "cursor = tweepy.Cursor(api.search, q=keyword, since='2015-01-01',\n",
    "                        count=100000, geocode=location, include_entities=True)\n",
    "try :\n",
    "    for tweet in cursor.items():\n",
    "        result.append([tweet.text, tweet.created_at])\n",
    "finally :\n",
    "    # 이모지 제거\n",
    "    def strip_e(st):\n",
    "        RE_EMOJI = re.compile('[\\U00010000-\\U0010ffff]', flags=re.UNICODE)\n",
    "        return RE_EMOJI.sub(r'', st)\n",
    "\n",
    "    for i in result :\n",
    "        i[0] = strip_e(i[0])\n",
    "\n",
    "    # 한글 전처리\n",
    "    konl_result = list()\n",
    "\n",
    "    for i in result :\n",
    "        temp_str = okt.nouns(i[0])\n",
    "        # if(len(temp_str) == 0 ) : continue\n",
    "        konl_result.append([temp_str,i[1]])\n",
    "\n",
    "    # 파일로 저장\n",
    "    from datetime import datetime\n",
    "    now = datetime.now()\n",
    "\n",
    "    f = open(\"./per_hour_before/\" + \"before-\" + str(now.month) + \"-\" + str(now.day) + \"-\" + str(now.hour) + \".txt\", mode = \"w\", encoding='utf-8')\n",
    "    f.write(str(result))\n",
    "    f.close()\n",
    "\n",
    "    f = open(\"./per_hour_after/\" + str(now.month) + \"-\" + str(now.day) + \"-\" + str(now.hour) + \".txt\", mode = \"w\", encoding='utf-8')\n",
    "    f.write(str(konl_result))\n",
    "    f.close()"
   ]
  }
 ],
 "metadata": {
  "kernelspec": {
   "display_name": "Python 3",
   "language": "python",
   "name": "python3"
  },
  "language_info": {
   "codemirror_mode": {
    "name": "ipython",
    "version": 3
   },
   "file_extension": ".py",
   "mimetype": "text/x-python",
   "name": "python",
   "nbconvert_exporter": "python",
   "pygments_lexer": "ipython3",
   "version": "3.6.7"
  }
 },
 "nbformat": 4,
 "nbformat_minor": 2
}
